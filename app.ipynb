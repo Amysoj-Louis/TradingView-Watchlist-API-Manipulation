{
 "cells": [
  {
   "cell_type": "markdown",
   "metadata": {},
   "source": [
    "# !!! Warning !!! #\n",
    "This code is only for educational purposes. As the code manupulates an Premium feature of the [TradingView](https://in.tradingview.com/) Application please refrain from using for personal or commercial use. \n",
    "\n"
   ]
  },
  {
   "cell_type": "code",
   "execution_count": 1,
   "metadata": {},
   "outputs": [],
   "source": [
    "import requests"
   ]
  },
  {
   "cell_type": "code",
   "execution_count": 2,
   "metadata": {},
   "outputs": [],
   "source": [
    "#A list Of indian Stocks\n",
    "\n",
    "Stocklist = ['RELIANCE', 'TCS', 'HDFCBANK', 'INFY', 'ICICIBANK', 'HINDUNILVR']"
   ]
  },
  {
   "cell_type": "code",
   "execution_count": 4,
   "metadata": {},
   "outputs": [],
   "source": [
    "session_id = \"xxxxxxxxxxxxxxxxxxxxxxxxxxxxxxxx\"  # session id from cookies. It is an 32 character id (0-9,a-z)\n",
    "watchlist_id =\"xxxxxxxx\" #watchlist id from url of http request. It is an 8 character id (0-9)"
   ]
  },
  {
   "cell_type": "code",
   "execution_count": 5,
   "metadata": {},
   "outputs": [
    {
     "name": "stdout",
     "output_type": "stream",
     "text": [
      "['RELIANCE', 'TCS', 'HDFCBANK', 'INFY', 'ICICIBANK', 'HINDUNILVR']\n",
      "['RELIANCE', 'TCS', 'HDFCBANK', 'INFY', 'ICICIBANK', 'HINDUNILVR']\n"
     ]
    }
   ],
   "source": [
    "# Get Watchlist\n",
    "\n",
    "url = f'https://in.tradingview.com/api/v1/symbols_list/custom/{watchlist_id}'\n",
    "url2 = \"https://in.tradingview.com/api/v1/symbols_list/colored/red\"\n",
    "headers = {\n",
    "    'user-agent': 'Mozilla/5.0 (Windows NT 10.0; Win64; x64) AppleWebKit/537.36 (KHTML, like Gecko) Chrome/101.0.4951.54 Safari/537.36',\n",
    "    'accept-encoding': 'gzip, deflate, br',\n",
    "    'accept-language': 'en-GB,en-US;q=0.9,en;q=0.8',\n",
    "    'cookie': f'sessionid={session_id}',\n",
    "    'origin': 'https://in.tradingview.com',\n",
    "    'x-requested-with': 'XMLHttpRequest',\n",
    "}\n",
    "data = requests.get(url, headers=headers)\n",
    "data2 = requests.get(url2, headers=headers)\n",
    "print(data.json()[\"symbols\"])\n",
    "print(data2.json()[\"symbols\"])\n"
   ]
  },
  {
   "cell_type": "code",
   "execution_count": 6,
   "metadata": {},
   "outputs": [
    {
     "name": "stdout",
     "output_type": "stream",
     "text": [
      "[]\n",
      "[]\n"
     ]
    }
   ],
   "source": [
    "# Clear Watchlist\n",
    "\n",
    "url = f'https://in.tradingview.com/api/v1/symbols_list/custom/{watchlist_id}/replace/?unsafe=true' \n",
    "url2 = \"https://in.tradingview.com/api/v1/symbols_list/colored/red/replace/?unsafe=true\"\n",
    "headers = {\n",
    "    'user-agent': 'Mozilla/5.0 (Windows NT 10.0; Win64; x64) AppleWebKit/537.36 (KHTML, like Gecko) Chrome/101.0.4951.54 Safari/537.36',\n",
    "    'accept-encoding': 'gzip, deflate, br',\n",
    "    'accept-language': 'en-GB,en-US;q=0.9,en;q=0.8',\n",
    "    'cookie': f'sessionid={session_id}',\n",
    "    'origin': 'https://in.tradingview.com',\n",
    "    'x-requested-with': 'XMLHttpRequest',\n",
    "}\n",
    "\n",
    "payload = []\n",
    "data = requests.post(url, json=payload, headers=headers)\n",
    "data2 = requests.post(url2, json=payload, headers=headers)\n",
    "print(data.json())\n",
    "print(data2.json())\n"
   ]
  },
  {
   "cell_type": "code",
   "execution_count": 7,
   "metadata": {},
   "outputs": [
    {
     "name": "stdout",
     "output_type": "stream",
     "text": [
      "['RELIANCE', 'TCS', 'HDFCBANK', 'INFY', 'ICICIBANK', 'HINDUNILVR']\n",
      "['RELIANCE', 'TCS', 'HDFCBANK', 'INFY', 'ICICIBANK', 'HINDUNILVR']\n"
     ]
    }
   ],
   "source": [
    "# Append to Watchlist\n",
    "url = f'https://in.tradingview.com/api/v1/symbols_list/custom/{watchlist_id}/append/'\n",
    "url2 = \"https://in.tradingview.com/api/v1/symbols_list/colored/red/append/\"\n",
    "\n",
    "headers = {\n",
    "    'user-agent': 'Mozilla/5.0 (Windows NT 10.0; Win64; x64) AppleWebKit/537.36 (KHTML, like Gecko) Chrome/101.0.4951.54 Safari/537.36',\n",
    "    'accept-encoding': 'gzip, deflate, br',\n",
    "    'accept-language': 'en-GB,en-US;q=0.9,en;q=0.8',\n",
    "    'cookie': f'sessionid={session_id}',\n",
    "    'origin': 'https://in.tradingview.com',\n",
    "    'x-requested-with': 'XMLHttpRequest',\n",
    "}\n",
    "\n",
    "payload =Stocklist\n",
    "data = requests.post(url, json=payload, headers=headers)\n",
    "data2 = requests.post(url2, json=payload, headers=headers)\n",
    "print(data.json())\n",
    "print(data2.json())\n"
   ]
  }
 ],
 "metadata": {
  "kernelspec": {
   "display_name": "Python 3.11.0 64-bit",
   "language": "python",
   "name": "python3"
  },
  "language_info": {
   "codemirror_mode": {
    "name": "ipython",
    "version": 3
   },
   "file_extension": ".py",
   "mimetype": "text/x-python",
   "name": "python",
   "nbconvert_exporter": "python",
   "pygments_lexer": "ipython3",
   "version": "3.11.0"
  },
  "orig_nbformat": 4,
  "vscode": {
   "interpreter": {
    "hash": "aa87ed25ce6ee8d1d803b1dff6e0813bead6bb663fd700c98d4a0f1c53df08b8"
   }
  }
 },
 "nbformat": 4,
 "nbformat_minor": 2
}
